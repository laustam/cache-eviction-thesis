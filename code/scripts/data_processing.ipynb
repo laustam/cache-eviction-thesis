{
 "cells": [
  {
   "cell_type": "markdown",
   "id": "a17da2a4",
   "metadata": {},
   "source": [
    "# Data Processing"
   ]
  },
  {
   "cell_type": "markdown",
   "id": "7cce78b6",
   "metadata": {},
   "source": [
    "#1 Create DataFrame which contains all raw data in a structured manner"
   ]
  },
  {
   "cell_type": "code",
   "execution_count": null,
   "id": "9347f4c7",
   "metadata": {},
   "outputs": [],
   "source": [
    "import os\n",
    "import pandas as pd\n",
    "\n",
    "result_dir = \"../result\"\n",
    "data = []\n",
    "\n",
    "for filename in os.listdir(result_dir):\n",
    "    filepath = os.path.join(result_dir, filename)\n",
    "    with open(filepath, \"r\") as f:\n",
    "        for line in f:\n",
    "            # Example line:\n",
    "            # mySieve cache size      400B, 100000 req, miss ratio 0.5632, byte miss ratio 0.5632\n",
    "            parts = line.strip().split(\", \")\n",
    "            if len(parts) == 4:\n",
    "                alpha = filename.split('_')[1]\n",
    "                objects = filename.split('_')[3]\n",
    "                algorithm = parts[0].split()[1]\n",
    "                cache_size = parts[0].split()[-1]\n",
    "                reqs = int(parts[1].split()[0])\n",
    "                miss_ratio = float(parts[2].split()[-1])\n",
    "                data.append({\n",
    "                    \"algorithm\": algorithm,\n",
    "                    \"cache_size\": cache_size,\n",
    "                    \"alpha\": alpha,\n",
    "                    \"unique\": int(objects)/int(reqs),\n",
    "                    \"objects\": objects,\n",
    "                    \"requests\": reqs,\n",
    "                    \"miss_ratio\": miss_ratio,\n",
    "                    # \"filename\": filename\n",
    "                })\n",
    "            else:\n",
    "                print(f\"Something went wrong. Filename {filename}, Parts: {parts}\")\n",
    "                exit(-1)\n",
    "\n",
    "df = pd.DataFrame(data)\n",
    "df.head()"
   ]
  },
  {
   "cell_type": "markdown",
   "id": "080aef6b",
   "metadata": {},
   "source": [
    "#2 Find valuable metrics"
   ]
  },
  {
   "cell_type": "code",
   "execution_count": null,
   "id": "766fe3d8",
   "metadata": {},
   "outputs": [],
   "source": [
    "# Group by all columns except 'miss_ratio' and aggregate statistics for 'miss_ratio'\n",
    "metrics = df.groupby(\n",
    "    [col for col in df.columns if col != 'miss_ratio']\n",
    ")['miss_ratio'].agg(['count', 'mean', 'std', 'min', 'max']).reset_index()\n",
    "\n",
    "metrics.head()"
   ]
  }
 ],
 "metadata": {
  "kernelspec": {
   "display_name": "Python 3",
   "language": "python",
   "name": "python3"
  },
  "language_info": {
   "codemirror_mode": {
    "name": "ipython",
    "version": 3
   },
   "file_extension": ".py",
   "mimetype": "text/x-python",
   "name": "python",
   "nbconvert_exporter": "python",
   "pygments_lexer": "ipython3",
   "version": "3.10.17"
  }
 },
 "nbformat": 4,
 "nbformat_minor": 5
}
